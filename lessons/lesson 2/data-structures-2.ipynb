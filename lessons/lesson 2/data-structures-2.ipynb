{
 "cells": [
  {
   "cell_type": "code",
   "execution_count": 1,
   "metadata": {},
   "outputs": [],
   "source": [
    "import requests"
   ]
  },
  {
   "cell_type": "markdown",
   "metadata": {},
   "source": [
    "# Tuple\n",
    "an immutable, or unchangeable, ordered sequence of elements.\n",
    "\n",
    "So what is the difference between a tuple and a list?"
   ]
  },
  {
   "cell_type": "code",
   "execution_count": 2,
   "metadata": {},
   "outputs": [
    {
     "data": {
      "text/plain": [
       "'alon'"
      ]
     },
     "execution_count": 2,
     "metadata": {},
     "output_type": "execute_result"
    }
   ],
   "source": [
    "# Let's create a tuple\n",
    "record = ('alon','nisser', 45)\n",
    "record[0]\n",
    "\n",
    "# Run it (ctrl-enter)\n",
    "# Try getting the second element, and the 4th"
   ]
  },
  {
   "cell_type": "code",
   "execution_count": 3,
   "metadata": {},
   "outputs": [
    {
     "name": "stdout",
     "output_type": "stream",
     "text": [
      "alon\n",
      "nisser\n",
      "45\n"
     ]
    }
   ],
   "source": [
    "# Wקe can iterate on it like a list\n",
    "for item in record:\n",
    "    print(item)"
   ]
  },
  {
   "cell_type": "code",
   "execution_count": null,
   "metadata": {},
   "outputs": [],
   "source": [
    "# Can we add to a tuple?"
   ]
  },
  {
   "cell_type": "code",
   "execution_count": 4,
   "metadata": {},
   "outputs": [
    {
     "ename": "AttributeError",
     "evalue": "'tuple' object has no attribute 'append'",
     "output_type": "error",
     "traceback": [
      "\u001b[1;31m---------------------------------------------------------------------------\u001b[0m",
      "\u001b[1;31mAttributeError\u001b[0m                            Traceback (most recent call last)",
      "\u001b[1;32m<ipython-input-4-5a77212a7e8d>\u001b[0m in \u001b[0;36m<module>\u001b[1;34m\u001b[0m\n\u001b[1;32m----> 1\u001b[1;33m \u001b[0mrecord\u001b[0m\u001b[1;33m.\u001b[0m\u001b[0mappend\u001b[0m\u001b[1;33m(\u001b[0m\u001b[1;34m'Amit'\u001b[0m\u001b[1;33m)\u001b[0m\u001b[1;33m\u001b[0m\u001b[1;33m\u001b[0m\u001b[0m\n\u001b[0m",
      "\u001b[1;31mAttributeError\u001b[0m: 'tuple' object has no attribute 'append'"
     ]
    }
   ],
   "source": [
    "record.append('Amit')"
   ]
  },
  {
   "cell_type": "markdown",
   "metadata": {},
   "source": [
    "A tuple is **IMMUTABLE** - **It doesn't change**\n",
    "\n",
    "And **Immutability changes everything**"
   ]
  },
  {
   "cell_type": "markdown",
   "metadata": {},
   "source": [
    "# What is it good for?\n",
    "\n",
    "Mostly it's **Safe value passing**: We won't change it by mistake, so we can save data we don't want to change and pass it around in our program safely\n",
    "\n",
    "thus:\n",
    "\n",
    "* Database access layers would usually return tuples of data from the db\n",
    "* Functions that need to return multiple values would usually return tuples (even by default)\n",
    "* Data we don't want to change by mistake but we need to pass around in our program is usually a tuple"
   ]
  },
  {
   "cell_type": "code",
   "execution_count": 5,
   "metadata": {},
   "outputs": [
    {
     "name": "stdout",
     "output_type": "stream",
     "text": [
      "Help on function time_till_death in module __main__:\n",
      "\n",
      "time_till_death(age: int)\n",
      "    I'm the doc string for this morbid function\n",
      "    Insurance types like me, almost nobody else\n",
      "    \n",
      "    :param int age: the client age\n",
      "    :returns estimated time until death, max time until death\n",
      "    :rtype (int, int)\n",
      "\n"
     ]
    }
   ],
   "source": [
    "# Tuple unpacking\n",
    "#Let's say we're in insurance bussiness\n",
    "\n",
    "def time_till_death(age: int):\n",
    "    \"\"\"\n",
    "    I'm the doc string for this morbid function\n",
    "    Insurance types like me, almost nobody else\n",
    "    \n",
    "    :param int age: the client age\n",
    "    :returns estimated time until death, max time until death\n",
    "    :rtype (int, int)\n",
    "    \"\"\"\n",
    "    median_death_age = 80\n",
    "    estimated_median_time_till_death = 80 - age\n",
    "    oldest_man_age = 114\n",
    "    max_time_until_death = 114 - age\n",
    "    # NOTE: two return values\n",
    "    return estimated_median_time_till_death, max_time_until_death\n",
    "\n",
    "# note: we can see info about the function/class which would use the docstring\n",
    "help(time_till_death)"
   ]
  },
  {
   "cell_type": "code",
   "execution_count": 6,
   "metadata": {},
   "outputs": [
    {
     "name": "stdout",
     "output_type": "stream",
     "text": [
      "(35, 69)\n",
      "<class 'tuple'>\n",
      "35\n"
     ]
    }
   ],
   "source": [
    "# So let's take our changes\n",
    "result = time_till_death(45)\n",
    "print(result)\n",
    "print(type(result))\n",
    "print(result[0])"
   ]
  },
  {
   "cell_type": "code",
   "execution_count": 7,
   "metadata": {},
   "outputs": [
    {
     "name": "stdout",
     "output_type": "stream",
     "text": [
      "estimated 35\n",
      "max 69\n"
     ]
    }
   ],
   "source": [
    "# but we can \"unpack\" the tuple when we call the function\n",
    "estimated_time_until_death, max_time_until_death = time_till_death(45)\n",
    "print(f'estimated {estimated_time_until_death}')\n",
    "print(f'max {max_time_until_death}')"
   ]
  },
  {
   "cell_type": "code",
   "execution_count": 8,
   "metadata": {},
   "outputs": [
    {
     "name": "stderr",
     "output_type": "stream",
     "text": [
      "'[the' is not recognized as an internal or external command,\n",
      "operable program or batch file.\n"
     ]
    }
   ],
   "source": [
    "![the grim reaper](https://upload.wikimedia.org/wikipedia/commons/9/98/Mort.jpg)"
   ]
  },
  {
   "cell_type": "code",
   "execution_count": 9,
   "metadata": {},
   "outputs": [
    {
     "name": "stdout",
     "output_type": "stream",
     "text": [
      "{(35, 69): 'why use it'}\n"
     ]
    }
   ],
   "source": [
    "#We can even use it as a dictionary key \n",
    "\n",
    "my_dict = {result:\"why use it\"}\n",
    "print(my_dict)"
   ]
  },
  {
   "cell_type": "markdown",
   "metadata": {},
   "source": [
    "# Sets\n",
    "\n",
    "an **unordered** collection of data type that is **iterable**, **mutable** and has **no duplicate elements**. The order of elements in a set is undefined"
   ]
  },
  {
   "cell_type": "code",
   "execution_count": 10,
   "metadata": {},
   "outputs": [
    {
     "name": "stdout",
     "output_type": "stream",
     "text": [
      "{'Tara', 'Amalia', 'Ruth', 'Nitzan'}\n",
      "Tara\n",
      "Amalia\n",
      "Ruth\n",
      "Nitzan\n",
      "<class 'set'>\n"
     ]
    }
   ],
   "source": [
    "# creating a set\n",
    "names = {'Tara', 'Amalia','Ruth', 'Nitzan'} # note the curly brackets , like a dict but with a list\n",
    "print(names)\n",
    "for name in names:\n",
    "    print(name)\n",
    "print(type(names))"
   ]
  },
  {
   "cell_type": "code",
   "execution_count": 11,
   "metadata": {},
   "outputs": [
    {
     "name": "stdout",
     "output_type": "stream",
     "text": [
      "Tara\n",
      "Amalia\n",
      "Ruth\n",
      "Nitzan\n",
      "<class 'set'>\n"
     ]
    }
   ],
   "source": [
    "# Also a class (like dict) that get's a list\n",
    "literal_names = set(['Tara', 'Amalia','Ruth', 'Nitzan'])\n",
    "for name in literal_names:\n",
    "    print(name)\n",
    "\n",
    "print(type(literal_names))"
   ]
  },
  {
   "cell_type": "code",
   "execution_count": 12,
   "metadata": {},
   "outputs": [
    {
     "name": "stdout",
     "output_type": "stream",
     "text": [
      "{'Tara', 'Nitzan', 'Ruth', 'alon', 'Amalia'}\n"
     ]
    }
   ],
   "source": [
    "names.add('alon')\n",
    "print(names)"
   ]
  },
  {
   "cell_type": "code",
   "execution_count": 14,
   "metadata": {},
   "outputs": [
    {
     "name": "stdout",
     "output_type": "stream",
     "text": [
      "{'Tara', 'Nitzan', 'Ruth', 'alon', 'Amalia'}\n"
     ]
    }
   ],
   "source": [
    "# can we add another of the same?\n",
    "names.add('alon')\n",
    "print(names)"
   ]
  },
  {
   "cell_type": "code",
   "execution_count": 15,
   "metadata": {},
   "outputs": [
    {
     "name": "stdout",
     "output_type": "stream",
     "text": [
      "{'Tara', 'Nitzan', 'Ruth', 'Amalia'}\n"
     ]
    }
   ],
   "source": [
    "# NO - they are unique, also note that alon isn't in the end of the set\n",
    "# We can also remove unique elems\n",
    "names.remove('alon')\n",
    "print(names)"
   ]
  },
  {
   "cell_type": "code",
   "execution_count": 16,
   "metadata": {},
   "outputs": [
    {
     "ename": "KeyError",
     "evalue": "'alon'",
     "output_type": "error",
     "traceback": [
      "\u001b[1;31m---------------------------------------------------------------------------\u001b[0m",
      "\u001b[1;31mKeyError\u001b[0m                                  Traceback (most recent call last)",
      "\u001b[1;32m<ipython-input-16-03d546fe3b38>\u001b[0m in \u001b[0;36m<module>\u001b[1;34m\u001b[0m\n\u001b[0;32m      1\u001b[0m \u001b[1;31m# can we remove twice?\u001b[0m\u001b[1;33m\u001b[0m\u001b[1;33m\u001b[0m\u001b[1;33m\u001b[0m\u001b[0m\n\u001b[1;32m----> 2\u001b[1;33m \u001b[0mnames\u001b[0m\u001b[1;33m.\u001b[0m\u001b[0mremove\u001b[0m\u001b[1;33m(\u001b[0m\u001b[1;34m'alon'\u001b[0m\u001b[1;33m)\u001b[0m\u001b[1;33m\u001b[0m\u001b[1;33m\u001b[0m\u001b[0m\n\u001b[0m\u001b[0;32m      3\u001b[0m \u001b[1;31m# What did you get?\u001b[0m\u001b[1;33m\u001b[0m\u001b[1;33m\u001b[0m\u001b[1;33m\u001b[0m\u001b[0m\n",
      "\u001b[1;31mKeyError\u001b[0m: 'alon'"
     ]
    }
   ],
   "source": [
    "# can we remove twice?\n",
    "names.remove('alon')\n",
    "# What did you get?"
   ]
  },
  {
   "cell_type": "code",
   "execution_count": 17,
   "metadata": {},
   "outputs": [],
   "source": [
    "# if we want a \"safer\" remove we can use discard\n",
    "names.discard('alon')"
   ]
  },
  {
   "cell_type": "markdown",
   "metadata": {},
   "source": [
    "# Set and Set theory\n",
    "\n",
    "Actually set are the implemnation of a mathematical topic called [set theory](https://en.wikipedia.org/wiki/Set_theory) and a nice [youtube intro](https://www.youtube.com/watch?v=U4wui1mtotg&list=PLztBpqftvzxWUF1psif8R7aUph4tsIuNw) \n",
    "\n",
    "Which means we can do operations on sets\n",
    "\n",
    "**Let's try!**"
   ]
  },
  {
   "cell_type": "code",
   "execution_count": 18,
   "metadata": {},
   "outputs": [
    {
     "name": "stdout",
     "output_type": "stream",
     "text": [
      "{'Tara', 'Nitzan', 'Ruth', 'Amalia'}\n",
      "{'Ruth', 'Nitzan'}\n",
      "{'Tara', 'Amalia'}\n"
     ]
    },
    {
     "ename": "TypeError",
     "evalue": "unsupported operand type(s) for +: 'set' and 'set'",
     "output_type": "error",
     "traceback": [
      "\u001b[1;31m---------------------------------------------------------------------------\u001b[0m",
      "\u001b[1;31mTypeError\u001b[0m                                 Traceback (most recent call last)",
      "\u001b[1;32m<ipython-input-18-f11042ffb786>\u001b[0m in \u001b[0;36m<module>\u001b[1;34m\u001b[0m\n\u001b[0;32m      6\u001b[0m \u001b[0mprint\u001b[0m\u001b[1;33m(\u001b[0m\u001b[0mbefore\u001b[0m\u001b[1;33m)\u001b[0m\u001b[1;33m\u001b[0m\u001b[1;33m\u001b[0m\u001b[0m\n\u001b[0;32m      7\u001b[0m \u001b[1;33m\u001b[0m\u001b[0m\n\u001b[1;32m----> 8\u001b[1;33m \u001b[0mprint\u001b[0m\u001b[1;33m(\u001b[0m\u001b[0mbefore\u001b[0m \u001b[1;33m+\u001b[0m \u001b[0mtwins\u001b[0m\u001b[1;33m)\u001b[0m\u001b[1;33m\u001b[0m\u001b[1;33m\u001b[0m\u001b[0m\n\u001b[0m\u001b[0;32m      9\u001b[0m \u001b[1;31m# Oh\u001b[0m\u001b[1;33m\u001b[0m\u001b[1;33m\u001b[0m\u001b[1;33m\u001b[0m\u001b[0m\n",
      "\u001b[1;31mTypeError\u001b[0m: unsupported operand type(s) for +: 'set' and 'set'"
     ]
    }
   ],
   "source": [
    "print(names)\n",
    "twins = {'Nitzan','Ruth'}\n",
    "print(twins)\n",
    "\n",
    "before = names - twins\n",
    "print(before)\n",
    "\n",
    "print(before + twins)\n",
    "# Oh"
   ]
  },
  {
   "cell_type": "code",
   "execution_count": 19,
   "metadata": {},
   "outputs": [
    {
     "name": "stdout",
     "output_type": "stream",
     "text": [
      "{'Tara', 'Amalia', 'Ruth', 'Nitzan'}\n"
     ]
    }
   ],
   "source": [
    "current_state = before.union(twins)\n",
    "print(current_state)"
   ]
  },
  {
   "cell_type": "code",
   "execution_count": 20,
   "metadata": {},
   "outputs": [
    {
     "data": {
      "text/plain": [
       "{'Amalia', 'Tara'}"
      ]
     },
     "execution_count": 20,
     "metadata": {},
     "output_type": "execute_result"
    }
   ],
   "source": [
    "# we check just for changes\n",
    "current_state.difference(twins)"
   ]
  },
  {
   "cell_type": "code",
   "execution_count": 21,
   "metadata": {},
   "outputs": [
    {
     "name": "stdout",
     "output_type": "stream",
     "text": [
      "{1, 2}\n",
      "{6, 7}\n"
     ]
    }
   ],
   "source": [
    "# What happens when differences in both lists\n",
    "one_to_five = {1,2,3, 4, 5}\n",
    "three_to_seven = {3, 4, 5, 6, 7}\n",
    "print(one_to_five.difference(three_to_seven))\n",
    "print(three_to_seven.difference(one_to_five))"
   ]
  },
  {
   "cell_type": "code",
   "execution_count": 22,
   "metadata": {},
   "outputs": [
    {
     "name": "stdout",
     "output_type": "stream",
     "text": [
      "{1, 2, 6, 7}\n"
     ]
    }
   ],
   "source": [
    "# Or just the symmetric difference\n",
    "print(three_to_seven.symmetric_difference(one_to_five))\n",
    "# returns all the elements which aren't in in the intersection"
   ]
  },
  {
   "cell_type": "code",
   "execution_count": 23,
   "metadata": {},
   "outputs": [
    {
     "name": "stdout",
     "output_type": "stream",
     "text": [
      "{1, 2, 3, 4, 5, 6, 7}\n"
     ]
    }
   ],
   "source": [
    "# We can do a \"union\"\n",
    "all = one_to_five.union(three_to_seven)\n",
    "print(all)"
   ]
  },
  {
   "cell_type": "code",
   "execution_count": 24,
   "metadata": {},
   "outputs": [
    {
     "data": {
      "text/plain": [
       "{3, 4, 5}"
      ]
     },
     "execution_count": 24,
     "metadata": {},
     "output_type": "execute_result"
    }
   ],
   "source": [
    "# Or just take the intersection of common\n",
    "one_to_five.intersection(three_to_seven)"
   ]
  },
  {
   "cell_type": "code",
   "execution_count": 25,
   "metadata": {},
   "outputs": [
    {
     "name": "stdout",
     "output_type": "stream",
     "text": [
      "{3, 4, 5}\n"
     ]
    }
   ],
   "source": [
    "# We can also change the set to include only the intersecion (similiar methods also in other places)\n",
    "one_to_five.intersection_update(three_to_seven)\n",
    "print(one_to_five)\n",
    "# Note we've just mutated the set"
   ]
  },
  {
   "cell_type": "code",
   "execution_count": 26,
   "metadata": {},
   "outputs": [
    {
     "name": "stdout",
     "output_type": "stream",
     "text": [
      "True\n",
      "False\n",
      "True\n"
     ]
    }
   ],
   "source": [
    "# We can also check for the connection between sets - subsets, supersets, etc\n",
    "a = set([1,3,4,5,6,7,8])\n",
    "b = set([7, 5, 4])\n",
    "c = set([0,-1,10])\n",
    "print(b.issubset(a))\n",
    "print(c.issubset(a))\n",
    "print(a.issuperset(b))"
   ]
  },
  {
   "cell_type": "code",
   "execution_count": 27,
   "metadata": {},
   "outputs": [
    {
     "name": "stdout",
     "output_type": "stream",
     "text": [
      "True\n",
      "set()\n"
     ]
    }
   ],
   "source": [
    "# also some syntetic sugar to handle disjoint sets\n",
    "print(a.isdisjoint(c))\n",
    "print(a.intersection(c))\n",
    "# so disjoint sets mean the intersection between them is an empty set"
   ]
  },
  {
   "cell_type": "markdown",
   "metadata": {},
   "source": [
    "![venn](./images/venn.jpeg)"
   ]
  },
  {
   "cell_type": "markdown",
   "metadata": {},
   "source": [
    "## Sets are very good at keeping a unique list, and doing set math\n",
    "\n",
    "### But also in checking if something is in the list very fast (although it's un ordered)"
   ]
  },
  {
   "cell_type": "code",
   "execution_count": 28,
   "metadata": {},
   "outputs": [
    {
     "name": "stdout",
     "output_type": "stream",
     "text": [
      "list len 9999\n",
      "my set len: 9999\n"
     ]
    }
   ],
   "source": [
    "a_list = range(1, 10000)\n",
    "print(f'list len {len(a_list)}')\n",
    "my_set = set(a_list)\n",
    "print(f'my set len: {len(my_set)}')"
   ]
  },
  {
   "cell_type": "code",
   "execution_count": 30,
   "metadata": {},
   "outputs": [
    {
     "name": "stdout",
     "output_type": "stream",
     "text": [
      "nope\n"
     ]
    }
   ],
   "source": [
    "if -500 in my_set:\n",
    "    print('yey')\n",
    "else:\n",
    "    print('nope')"
   ]
  },
  {
   "cell_type": "markdown",
   "metadata": {},
   "source": [
    "# Example of practical set usage\n",
    "\n",
    "## Let's count unique words"
   ]
  },
  {
   "cell_type": "code",
   "execution_count": 31,
   "metadata": {},
   "outputs": [],
   "source": [
    "res = requests.get('http://www.gutenberg.org/files/4300/4300-0.txt')"
   ]
  },
  {
   "cell_type": "code",
   "execution_count": 32,
   "metadata": {},
   "outputs": [
    {
     "data": {
      "text/plain": [
       "'\\ufeff\\r\\nThe Project Gutenberg EBook of Ulysses, by James Joyce\\r\\n\\r\\nThis eBook is for the use of anyone any'"
      ]
     },
     "execution_count": 32,
     "metadata": {},
     "output_type": "execute_result"
    }
   ],
   "source": [
    "encoded = res.content.decode()\n",
    "encoded[0:100]"
   ]
  },
  {
   "cell_type": "code",
   "execution_count": 33,
   "metadata": {
    "scrolled": true
   },
   "outputs": [
    {
     "name": "stdout",
     "output_type": "stream",
     "text": [
      "268132\n",
      "['descended', 'from', 'sir', 'John', 'Blackwood', 'who', 'voted', 'for', 'the', 'union.', 'We', 'are', 'all', 'Irish,', 'all', 'kings’', 'sons.', '—Alas,', 'Stephen', 'said.', '—_Per', 'vias', 'rectas_,', 'Mr', 'Deasy', 'said', 'firmly,', 'was', 'his', 'motto.', 'He', 'voted', 'for', 'it', 'and', 'put', 'on', 'his', 'topboots', 'to', 'ride', 'to', 'Dublin', 'from', 'the', 'Ards', 'of', 'Down', 'to', 'do', 'so.', 'Lal', 'the', 'ral', 'the', 'ra', 'The', 'rocky', 'road', 'to', 'Dublin.', 'A', 'gruff', 'squire', 'on', 'horseback', 'with', 'shiny', 'topboots.', 'Soft', 'day,', 'sir', 'John!', 'Soft', 'day,', 'your', 'honour!...', 'Day!...', 'Day!...', 'Two', 'topboots', 'jog', 'dangling', 'on', 'to', 'Dublin.', 'Lal', 'the', 'ral', 'the', 'ra.', 'Lal', 'the', 'ral', 'the', 'raddy.', '—That', 'reminds', 'me,', 'Mr', 'Deasy', 'said.', 'You', 'can', 'do', 'me', 'a', 'favour,', 'Mr', 'Dedalus,', 'with', 'some', 'of', 'your', 'literary', 'friends.', 'I', 'have', 'a', 'letter', 'here', 'for', 'the', 'press.', 'Sit', 'down', 'a', 'moment.', 'I', 'have', 'just', 'to', 'copy', 'the', 'end.', 'He', 'went', 'to', 'the', 'desk', 'near', 'the', 'window,', 'pulled', 'in', 'his', 'chair', 'twice', 'and', 'read', 'off', 'some', 'words', 'from', 'the', 'sheet', 'on', 'the', 'drum', 'of', 'his', 'typewriter.', '—Sit', 'down.', 'Excuse', 'me,', 'he', 'said', 'over', 'his', 'shoulder,', '_the', 'dictates', 'of', 'common', 'sense._', 'Just', 'a', 'moment.', 'He', 'peered', 'from', 'under', 'his', 'shaggy', 'brows', 'at', 'the', 'manuscript', 'by', 'his', 'elbow', 'and,', 'muttering,', 'began', 'to', 'prod', 'the', 'stiff', 'buttons', 'of', 'the', 'keyboard', 'slowly,', 'sometimes', 'blowing', 'as', 'he', 'screwed', 'up', 'the', 'drum', 'to', 'erase', 'an', 'error.', 'Stephen', 'seated', 'himself', 'noiselessly', 'before', 'the', 'princely', 'presence.', 'Framed', 'around', 'the', 'walls', 'images', 'of', 'vanished', 'horses', 'stood', 'in', 'homage,', 'their', 'meek', 'heads', 'poised', 'in', 'air:', 'lord', 'Hastings’', '_Repulse_,', 'the', 'duke', 'of', 'Westminster’s', '_Shotover_,', 'the', 'duke', 'of', 'Beaufort’s', '_Ceylon_,', '_prix', 'de', 'Paris_,', '1866.', 'Elfin', 'riders', 'sat', 'them,', 'watchful', 'of', 'a', 'sign.', 'He', 'saw', 'their', 'speeds,', 'backing', 'king’s', 'colours,', 'and', 'shouted', 'with', 'the', 'shouts', 'of', 'vanished', 'crowds.', '—Full', 'stop,', 'Mr', 'Deasy', 'bade', 'his', 'keys.', '_But', 'prompt', 'ventilation', 'of', 'this', 'allimportant', 'question..._', 'Where', 'Cranly', 'led', 'me', 'to', 'get', 'rich', 'quick,', 'hunting', 'his', 'winners', 'among', 'the', 'mudsplashed', 'brakes,', 'amid', 'the', 'bawls', 'of', 'bookies', 'on', 'their', 'pitches', 'and', 'reek', 'of', 'the', 'canteen,', 'over', 'the', 'motley', 'slush.', 'Even', 'money', '_Fair', 'Rebel._', 'Ten', 'to', 'one', 'the', 'field.', 'Dicers', 'and', 'thimbleriggers', 'we', 'hurried', 'by', 'after', 'the', 'hoofs,', 'the', 'vying', 'caps', 'and', 'jackets', 'and', 'past', 'the', 'meatfaced', 'woman,', 'a', 'butcher’s', 'dame,', 'nuzzling', 'thirstily', 'her', 'clove', 'of', 'orange.', 'Shouts', 'rang', 'shrill', 'from', 'the', 'boys’', 'playfield', 'and', 'a', 'whirring', 'whistle.', 'Again:', 'a', 'goal.', 'I', 'am', 'among', 'them,', 'among', 'their', 'battling', 'bodies', 'in', 'a', 'medley,', 'the', 'joust', 'of', 'life.', 'You', 'mean', 'that', 'knockkneed', 'mother’s', 'darling', 'who', 'seems', 'to', 'be', 'slightly', 'crawsick?', 'Jousts.', 'Time', 'shocked', 'rebounds,', 'shock', 'by', 'shock.', 'Jousts,', 'slush', 'and', 'uproar', 'of', 'battles,', 'the', 'frozen', 'deathspew', 'of', 'the', 'slain,', 'a', 'shout', 'of', 'spearspikes', 'baited', 'with', 'men’s', 'bloodied', 'guts.', '—Now', 'then,', 'Mr', 'Deasy', 'said,', 'rising.', 'He', 'came', 'to', 'the', 'table,', 'pinning', 'together', 'his', 'sheets.', 'Stephen', 'stood', 'up.', '—I', 'have', 'put', 'the', 'matter', 'into', 'a', 'nutshell,', 'Mr', 'Deasy', 'said.', 'It’s', 'about', 'the', 'foot', 'and', 'mouth', 'disease.', 'Just', 'look', 'through', 'it.', 'There', 'can', 'be', 'no', 'two', 'opinions', 'on', 'the', 'matter.', 'May', 'I', 'trespass', 'on', 'your', 'valuable', 'space.', 'That', 'doctrine', 'of', '_laissez', 'faire_', 'which', 'so', 'often', 'in', 'our', 'history.', 'Our', 'cattle', 'trade.', 'The', 'way', 'of', 'all', 'our', 'old', 'industries.', 'Liverpool', 'ring', 'which', 'jockeyed', 'the', 'Galway', 'harbour', 'scheme.', 'European', 'conflagration.', 'Grain', 'supplies', 'through', 'the', 'narrow', 'waters', 'of', 'the', 'channel.', 'The', 'pluterperfect', 'imperturbability', 'of', 'the', 'department', 'of', 'agriculture.', 'Pardoned', 'a', 'classical', 'allusion.', 'Cassandra.', 'By', 'a', 'woman', 'who', 'was', 'no', 'better', 'than', 'she', 'should', 'be.', 'To', 'come', 'to', 'the', 'point', 'at', 'issue.', '—I', 'don’t', 'mince', 'words,', 'do', 'I?', 'Mr', 'Deasy', 'asked', 'as', 'Stephen', 'read', 'on.', 'Foot', 'and', 'mouth', 'disease.', 'Known', 'as', 'Koch’s', 'preparation.', 'Serum', 'and', 'virus.', 'Percentage', 'of', 'salted', 'horses.', 'Rinderpest.', 'Emperor’s', 'horses', 'at', 'Mürzsteg,', 'lower', 'Austria.', 'Veterinary', 'surgeons.', 'Mr', 'Henry', 'Blackwood', 'Price.', 'Courteous', 'offer', 'a', 'fair', 'trial.', 'Dictates', 'of', 'common', 'sense.', 'Allimportant', 'question.', 'In', 'every', 'sense', 'of', 'the', 'word', 'take', 'the', 'bull', 'by', 'the', 'horns.', 'Thanking', 'you', 'for', 'the', 'hospitality', 'of', 'your', 'columns.', '—I', 'want', 'that', 'to', 'be', 'printed', 'and', 'read,', 'Mr', 'Deasy', 'said.', 'You', 'will', 'see', 'at', 'the', 'next', 'outbreak', 'they', 'will', 'put', 'an', 'embargo', 'on', 'Irish', 'cattle.', 'And', 'it', 'can', 'be', 'cured.', 'It', 'is', 'cured.', 'My', 'cousin,', 'Blackwood', 'Price,', 'writes', 'to', 'me', 'it', 'is', 'regularly', 'treated', 'and', 'cured', 'in', 'Austria', 'by', 'cattledoctors', 'there.', 'They', 'offer', 'to', 'come', 'over', 'here.', 'I', 'am', 'trying', 'to', 'work', 'up', 'influence', 'with', 'the', 'department.', 'Now', 'I’m', 'going', 'to', 'try', 'publicity.', 'I', 'am', 'surrounded', 'by', 'difficulties,', 'by...', 'intrigues', 'by...', 'backstairs', 'influence', 'by...', 'He', 'raised', 'his', 'forefinger', 'and', 'beat', 'the', 'air', 'oldly', 'before', 'his', 'voice', 'spoke.', '—Mark', 'my', 'words,', 'Mr', 'Dedalus,', 'he', 'said.', 'England', 'is', 'in', 'the', 'hands', 'of', 'the', 'jews.', 'In', 'all', 'the', 'highest', 'places:', 'her', 'finance,', 'her', 'press.', 'And', 'they', 'are', 'the', 'signs', 'of', 'a', 'nation’s', 'decay.', 'Wherever', 'they', 'gather', 'they', 'eat', 'up', 'the', 'nation’s', 'vital', 'strength.', 'I', 'have', 'seen', 'it', 'coming', 'these', 'years.', 'As', 'sure', 'as', 'we', 'are', 'standing', 'here', 'the', 'jew', 'merchants', 'are', 'already', 'at', 'their', 'work', 'of', 'destruction.', 'Old', 'England', 'is', 'dying.', 'He', 'stepped', 'swiftly', 'off,', 'his', 'eyes', 'coming', 'to', 'blue', 'life', 'as', 'they', 'passed', 'a', 'broad', 'sunbeam.', 'He', 'faced', 'about', 'and', 'back', 'again.', '—Dying,', 'he', 'said', 'again,', 'if', 'not', 'dead', 'by', 'now.', 'The', 'harlot’s', 'cry', 'from', 'street', 'to', 'street', 'Shall', 'weave', 'old', 'England’s', 'windingsheet.', 'His', 'eyes', 'open', 'wide', 'in', 'vision', 'stared', 'sternly', 'across', 'the', 'sunbeam', 'in', 'which', 'he', 'halted.', '—A', 'merchant,', 'Stephen', 'said,', 'is', 'one', 'who', 'buys', 'cheap', 'and', 'sells', 'dear,', 'jew', 'or', 'gentile,', 'is', 'he', 'not?', '—They', 'sinned', 'against', 'the', 'light,', 'Mr', 'Deasy', 'said', 'gravely.', 'And', 'you', 'can', 'see', 'the', 'darkness', 'in', 'their', 'eyes.', 'And', 'that', 'is', 'why', 'they', 'are', 'wanderers', 'on', 'the', 'earth', 'to', 'this', 'day.', 'On', 'the', 'steps', 'of', 'the', 'Paris', 'stock', 'exchange', 'the', 'goldskinned', 'men', 'quoting', 'prices', 'on', 'their', 'gemmed', 'fingers.', 'Gabble', 'of', 'geese.', 'They', 'swarmed', 'loud,', 'uncouth', 'about', 'the', 'temple,', 'their', 'heads', 'thickplotting', 'under', 'maladroit', 'silk', 'hats.', 'Not', 'theirs:', 'these', 'clothes,', 'this', 'speech,', 'these', 'gestures.', 'Their', 'full', 'slow', 'eyes', 'belied', 'the', 'words,', 'the', 'gestures', 'eager', 'and', 'unoffending,', 'but', 'knew', 'the', 'rancours', 'massed', 'about', 'them', 'and', 'knew', 'their', 'zeal', 'was', 'vain.', 'Vain', 'patience', 'to', 'heap', 'and', 'hoard.', 'Time', 'surely', 'would', 'scatter', 'all.', 'A', 'hoard', 'heaped', 'by', 'the', 'roadside:', 'plundered', 'and', 'passing', 'on.', 'Their', 'eyes', 'knew', 'their']\n"
     ]
    }
   ],
   "source": [
    "words = encoded.split()\n",
    "print(len(words))\n",
    "print(words[10000:11000])"
   ]
  },
  {
   "cell_type": "code",
   "execution_count": 34,
   "metadata": {},
   "outputs": [
    {
     "data": {
      "text/plain": [
       "49938"
      ]
     },
     "execution_count": 34,
     "metadata": {},
     "output_type": "execute_result"
    }
   ],
   "source": [
    "unique_words = set(words)\n",
    "len(unique_words)"
   ]
  },
  {
   "cell_type": "code",
   "execution_count": 35,
   "metadata": {},
   "outputs": [
    {
     "ename": "TypeError",
     "evalue": "'set' object is not subscriptable",
     "output_type": "error",
     "traceback": [
      "\u001b[1;31m---------------------------------------------------------------------------\u001b[0m",
      "\u001b[1;31mTypeError\u001b[0m                                 Traceback (most recent call last)",
      "\u001b[1;32m<ipython-input-35-acdb93dcc416>\u001b[0m in \u001b[0;36m<module>\u001b[1;34m\u001b[0m\n\u001b[0;32m      1\u001b[0m \u001b[1;31m#Let's take a look\u001b[0m\u001b[1;33m\u001b[0m\u001b[1;33m\u001b[0m\u001b[1;33m\u001b[0m\u001b[0m\n\u001b[0;32m      2\u001b[0m \u001b[1;33m\u001b[0m\u001b[0m\n\u001b[1;32m----> 3\u001b[1;33m \u001b[0munique_words\u001b[0m\u001b[1;33m[\u001b[0m\u001b[1;36m0\u001b[0m\u001b[1;33m:\u001b[0m\u001b[1;36m1000\u001b[0m\u001b[1;33m]\u001b[0m\u001b[1;33m\u001b[0m\u001b[1;33m\u001b[0m\u001b[0m\n\u001b[0m\u001b[0;32m      4\u001b[0m \u001b[1;31m# what just happened?\u001b[0m\u001b[1;33m\u001b[0m\u001b[1;33m\u001b[0m\u001b[1;33m\u001b[0m\u001b[0m\n",
      "\u001b[1;31mTypeError\u001b[0m: 'set' object is not subscriptable"
     ]
    }
   ],
   "source": [
    "#Let's take a look\n",
    "\n",
    "unique_words[0:1000]\n",
    "# what just happened?"
   ]
  },
  {
   "cell_type": "code",
   "execution_count": 36,
   "metadata": {},
   "outputs": [
    {
     "data": {
      "text/plain": [
       "['bar!',\n",
       " 'gnawing',\n",
       " 'Anne’s',\n",
       " 'Nagle’s',\n",
       " 'changed.',\n",
       " 'Rathmines’',\n",
       " 'sequins.)_',\n",
       " 'Given',\n",
       " 'three,',\n",
       " 'Row',\n",
       " 'retainers',\n",
       " 'ballad',\n",
       " 'slightly.',\n",
       " 'roast',\n",
       " 'building',\n",
       " 'http://www.gutenberg.org/4/3/0/4300/',\n",
       " 'rennets',\n",
       " '_Liliata',\n",
       " 'Bequests',\n",
       " 'mahone!',\n",
       " 'liquefied',\n",
       " 'bloodpoisoning',\n",
       " 'sinners.',\n",
       " 'bating.',\n",
       " 'lazy',\n",
       " 'Lion’s',\n",
       " 'suspect?',\n",
       " 'beerpull',\n",
       " 'sands',\n",
       " 'infantry',\n",
       " 'say.',\n",
       " 'Co,',\n",
       " 'eyeblink',\n",
       " 'handled',\n",
       " 'squeeze',\n",
       " 'resignedly:',\n",
       " 'Lydia',\n",
       " 'Lipton,',\n",
       " 'lap',\n",
       " 'Eskimos',\n",
       " 'lather',\n",
       " 'clotheshorse.',\n",
       " 'once!',\n",
       " '—Bingbang,',\n",
       " 'Onions',\n",
       " 'fashion,',\n",
       " 'taut',\n",
       " 'coolest',\n",
       " 'varicose',\n",
       " '_(J.',\n",
       " 'But',\n",
       " 'adversely',\n",
       " 'invoking',\n",
       " 'them!',\n",
       " 'invective.',\n",
       " 'speak?',\n",
       " '—Yes?',\n",
       " 'rank',\n",
       " 'causeway.',\n",
       " 'largesize',\n",
       " 'heart',\n",
       " 'Plato.',\n",
       " 'standard.)_',\n",
       " 'Built',\n",
       " 'shadowed',\n",
       " 'encounters',\n",
       " 'chaw',\n",
       " 'contradicting',\n",
       " 'poppies.',\n",
       " '—Jews,',\n",
       " 'soul_...',\n",
       " 'with?',\n",
       " 'Moo.',\n",
       " 'brevier',\n",
       " 'Lawn',\n",
       " 'lions!',\n",
       " 'ashplant.)_',\n",
       " 'mute',\n",
       " 'place',\n",
       " 'tranquility,',\n",
       " 'paw.',\n",
       " 'TENNYSON:',\n",
       " 'waylaid',\n",
       " 'gasps,',\n",
       " 'Bar',\n",
       " 'ye!',\n",
       " 'shirtfront:',\n",
       " 'aliases',\n",
       " 'stalwart',\n",
       " 'fear?',\n",
       " 'normal',\n",
       " 'paused.',\n",
       " 'opossum',\n",
       " 'Und',\n",
       " 'younger',\n",
       " 'lodge,',\n",
       " 'approximated',\n",
       " 'Mabbot',\n",
       " 'Artesian',\n",
       " 'sir,']"
      ]
     },
     "execution_count": 36,
     "metadata": {},
     "output_type": "execute_result"
    }
   ],
   "source": [
    "list(unique_words)[0:100]"
   ]
  },
  {
   "cell_type": "code",
   "execution_count": 37,
   "metadata": {},
   "outputs": [
    {
     "ename": "TypeError",
     "evalue": "unhashable type: 'list'",
     "output_type": "error",
     "traceback": [
      "\u001b[1;31m---------------------------------------------------------------------------\u001b[0m",
      "\u001b[1;31mTypeError\u001b[0m                                 Traceback (most recent call last)",
      "\u001b[1;32m<ipython-input-37-6395b5ed1c86>\u001b[0m in \u001b[0;36m<module>\u001b[1;34m\u001b[0m\n\u001b[0;32m      1\u001b[0m \u001b[1;31m#can anything be added to a set? let's try\u001b[0m\u001b[1;33m\u001b[0m\u001b[1;33m\u001b[0m\u001b[1;33m\u001b[0m\u001b[0m\n\u001b[0;32m      2\u001b[0m \u001b[0mbreak_set\u001b[0m \u001b[1;33m=\u001b[0m \u001b[0mset\u001b[0m\u001b[1;33m(\u001b[0m\u001b[1;33m)\u001b[0m\u001b[1;33m\u001b[0m\u001b[1;33m\u001b[0m\u001b[0m\n\u001b[1;32m----> 3\u001b[1;33m \u001b[0mbreak_set\u001b[0m\u001b[1;33m.\u001b[0m\u001b[0madd\u001b[0m\u001b[1;33m(\u001b[0m\u001b[1;33m[\u001b[0m\u001b[1;34m'alon'\u001b[0m\u001b[1;33m]\u001b[0m\u001b[1;33m)\u001b[0m\u001b[1;33m\u001b[0m\u001b[1;33m\u001b[0m\u001b[0m\n\u001b[0m\u001b[0;32m      4\u001b[0m \u001b[1;31m# Maybe you remember ta very similar error?\u001b[0m\u001b[1;33m\u001b[0m\u001b[1;33m\u001b[0m\u001b[1;33m\u001b[0m\u001b[0m\n",
      "\u001b[1;31mTypeError\u001b[0m: unhashable type: 'list'"
     ]
    }
   ],
   "source": [
    "#can anything be added to a set? let's try\n",
    "break_set = set()\n",
    "break_set.add(['alon'])\n",
    "# Maybe you remember ta very similar error? "
   ]
  },
  {
   "cell_type": "markdown",
   "metadata": {},
   "source": [
    "## What's next\n",
    "\n",
    "* Frozenset\n",
    "* Namedtuple\n",
    "* deque\n",
    "* ordereddict, counter, etc"
   ]
  },
  {
   "cell_type": "markdown",
   "metadata": {},
   "source": [
    "## read more\n",
    "\n",
    "* [set](https://www.geeksforgeeks.org/python-sets/)\n",
    "* [tuples](https://www.geeksforgeeks.org/python-tuples/)"
   ]
  }
 ],
 "metadata": {
  "kernelspec": {
   "display_name": "Python 3",
   "language": "python",
   "name": "python3"
  },
  "language_info": {
   "codemirror_mode": {
    "name": "ipython",
    "version": 3
   },
   "file_extension": ".py",
   "mimetype": "text/x-python",
   "name": "python",
   "nbconvert_exporter": "python",
   "pygments_lexer": "ipython3",
   "version": "3.8.3"
  }
 },
 "nbformat": 4,
 "nbformat_minor": 4
}
