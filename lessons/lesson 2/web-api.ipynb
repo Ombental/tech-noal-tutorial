{
 "cells": [
  {
   "cell_type": "markdown",
   "metadata": {},
   "source": [
    "# Understanding (Web) API (Application Programming Interface)\n",
    "*use case: Twilio using cURL and Python*\n",
    "\n",
    "---\n",
    "\n",
    "### first thing first: cURL\n",
    "cURL is a command line (cli) tool (program) for making network requests, similiar to a browser, but in the command line (cli)\n",
    "\n",
    "basic usage example:"
   ]
  },
  {
   "cell_type": "code",
   "execution_count": 2,
   "metadata": {},
   "outputs": [
    {
     "name": "stderr",
     "output_type": "stream",
     "text": [
      "  % Total    % Received % Xferd  Average Speed   Time    Time     Time  Current\n",
      "                                 Dload  Upload   Total   Spent    Left  Speed\n",
      "\n",
      "  0     0    0     0    0     0      0      0 --:--:-- --:--:-- --:--:--     0\n",
      "  0     0    0     0    0     0      0      0 --:--:-- --:--:-- --:--:--     0\n",
      "100  1256  100  1256    0     0   1363      0 --:--:-- --:--:-- --:--:--  1365\n"
     ]
    },
    {
     "name": "stdout",
     "output_type": "stream",
     "text": [
      "<!doctype html>\n",
      "<html>\n",
      "<head>\n",
      "    <title>Example Domain</title>\n",
      "\n",
      "    <meta charset=\"utf-8\" />\n",
      "    <meta http-equiv=\"Content-type\" content=\"text/html; charset=utf-8\" />\n",
      "    <meta name=\"viewport\" content=\"width=device-width, initial-scale=1\" />\n",
      "    <style type=\"text/css\">\n",
      "    body {\n",
      "        background-color: #f0f0f2;\n",
      "        margin: 0;\n",
      "        padding: 0;\n",
      "        font-family: -apple-system, system-ui, BlinkMacSystemFont, \"Segoe UI\", \"Open Sans\", \"Helvetica Neue\", Helvetica, Arial, sans-serif;\n",
      "        \n",
      "    }\n",
      "    div {\n",
      "        width: 600px;\n",
      "        margin: 5em auto;\n",
      "        padding: 2em;\n",
      "        background-color: #fdfdff;\n",
      "        border-radius: 0.5em;\n",
      "        box-shadow: 2px 3px 7px 2px rgba(0,0,0,0.02);\n",
      "    }\n",
      "    a:link, a:visited {\n",
      "        color: #38488f;\n",
      "        text-decoration: none;\n",
      "    }\n",
      "    @media (max-width: 700px) {\n",
      "        div {\n",
      "            margin: 0 auto;\n",
      "            width: auto;\n",
      "        }\n",
      "    }\n",
      "    </style>    \n",
      "</head>\n",
      "\n",
      "<body>\n",
      "<div>\n",
      "    <h1>Example Domain</h1>\n",
      "    <p>This domain is for use in illustrative examples in documents. You may use this\n",
      "    domain in literature without prior coordination or asking for permission.</p>\n",
      "    <p><a href=\"https://www.iana.org/domains/example\">More information...</a></p>\n",
      "</div>\n",
      "</body>\n",
      "</html>\n"
     ]
    }
   ],
   "source": [
    "! curl https://example.com"
   ]
  },
  {
   "cell_type": "markdown",
   "metadata": {},
   "source": [
    "send SMS via Twilio using cURL:"
   ]
  },
  {
   "cell_type": "code",
   "execution_count": 3,
   "metadata": {},
   "outputs": [
    {
     "name": "stderr",
     "output_type": "stream",
     "text": [
      "  % Total    % Received % Xferd  Average Speed   Time    Time     Time  Current\n",
      "                                 Dload  Upload   Total   Spent    Left  Speed\n",
      "\n",
      "  0     0    0     0    0     0      0      0 --:--:-- --:--:-- --:--:--     0curl: (6) Could not resolve host: 'https\n",
      "  % Total    % Received % Xferd  Average Speed   Time    Time     Time  Current\n",
      "                                 Dload  Upload   Total   Spent    Left  Speed\n",
      "\n",
      "  0     0    0     0    0     0      0      0 --:--:-- --:--:-- --:--:--     0\n",
      "  0     0    0     0    0     0      0      0 --:--:-- --:--:-- --:--:--     0\n",
      "  0     0    0     0    0     0      0      0 --:--:--  0:00:01 --:--:--     0\n",
      "  0     0    0     0    0     0      0      0 --:--:--  0:00:02 --:--:--     0curl: (6) Could not resolve host: שלשדגשד9203ןום\n",
      "  % Total    % Received % Xferd  Average Speed   Time    Time     Time  Current\n",
      "                                 Dload  Upload   Total   Spent    Left  Speed\n",
      "\n",
      "  0     0    0     0    0     0      0      0 --:--:-- --:--:-- --:--:--     0curl: (6) Could not resolve host: עולם'\n"
     ]
    }
   ],
   "source": [
    "! curl -X POST 'https://api.twilio.com/2010-04-01/Accounts/AC0fe0df9504d793ccf662810def4cff6c/Messages.json' \\\n",
    "    --data-urlencode 'Body=!שוב שלשדגשד9203ןום עולם' \\\n",
    "    --data-urlencode 'From=+15176180357' \\\n",
    "    --data-urlencode 'To=+972546734595' \\\n",
    "    -u 'AC0fe0df9504d793ccf662810def4cff6c':'e0e7876f3f1a45b9ea844167bbc94c52'"
   ]
  },
  {
   "cell_type": "markdown",
   "metadata": {},
   "source": [
    "---\n",
    "\n",
    "### 2nd stage: Python `requests` lib\n",
    "and now lets do the same with Python:"
   ]
  },
  {
   "cell_type": "code",
   "execution_count": 4,
   "metadata": {},
   "outputs": [
    {
     "name": "stdout",
     "output_type": "stream",
     "text": [
      "random number: 8825\n",
      "message: \"Hello! here is a random number: 8825\"\n"
     ]
    }
   ],
   "source": [
    "from random import randrange\n",
    "\n",
    "# lets generate a random number between 0 and 9999, why? for fun. (aren't you having fun?)\n",
    "number = randrange(10000)\n",
    "print(f'random number: {number}')\n",
    "\n",
    "# lets compose a message to be sent to Amit... so much fun. he's going to get a lot of SMS Spam with your random numbers\n",
    "message = f'Hello! here is a random number: {number}'\n",
    "print(f'message: \"{message}\"')"
   ]
  },
  {
   "cell_type": "code",
   "execution_count": 2,
   "metadata": {},
   "outputs": [
    {
     "name": "stdout",
     "output_type": "stream",
     "text": [
      "status_code: 201\n",
      "content: b'{\"sid\": \"SMa08dd98b95e545708c5ce2e52eef5e71\", \"date_created\": \"Wed, 26 Aug 2020 09:16:39 +0000\", \"date_updated\": \"Wed, 26 Aug 2020 09:16:39 +0000\", \"date_sent\": null, \"account_sid\": \"AC0fe0df9504d793ccf662810def4cff6c\", \"to\": \"+972546734595\", \"from\": \"+15176180357\", \"messaging_service_sid\": null, \"body\": \"Sent from your Twilio trial account - hi amitttt\", \"status\": \"queued\", \"num_segments\": \"1\", \"num_media\": \"0\", \"direction\": \"outbound-api\", \"api_version\": \"2010-04-01\", \"price\": null, \"price_unit\": \"USD\", \"error_code\": null, \"error_message\": null, \"uri\": \"/2010-04-01/Accounts/AC0fe0df9504d793ccf662810def4cff6c/Messages/SMa08dd98b95e545708c5ce2e52eef5e71.json\", \"subresource_uris\": {\"media\": \"/2010-04-01/Accounts/AC0fe0df9504d793ccf662810def4cff6c/Messages/SMa08dd98b95e545708c5ce2e52eef5e71/Media.json\"}}'\n"
     ]
    }
   ],
   "source": [
    "import requests\n",
    "\n",
    "def send_message(account_sid, auth_token, data):\n",
    "    # we will use a library (lib) called 'Requests: HTTP for Humans™' https://requests.readthedocs.io/\n",
    "    # rsp = short for 'response',  another common  variable convention could be 'res = ...'\n",
    "    endpoint_url = f'https://api.twilio.com/2010-04-01/Accounts/{account_sid}/Messages.json'\n",
    "    rsp = requests.post(endpoint_url, data, auth=(account_sid, auth_token))\n",
    "    return rsp\n",
    "\n",
    "# now lets send the message to Amit\n",
    "# twilio account id and token (\"user\" & \"password\")\n",
    "# api doc: https://www.twilio.com/docs/usage/api\n",
    "account_sid = 'AC0fe0df9504d793ccf662810def4cff6c'\n",
    "auth_token = 'e0e7876f3f1a45b9ea844167bbc94c52'\n",
    "phone_number = '+15176180357'\n",
    "\n",
    "data = {\n",
    "    'Body': message,\n",
    "    'From': phone_number,\n",
    "    'To': '+972546734595'\n",
    "}\n",
    "\n",
    "rsp = send_message(account_sid, auth_token, data)\n",
    "\n",
    "print(f'status_code: {rsp.status_code}')\n",
    "print(f'content: {rsp.content}')"
   ]
  },
  {
   "cell_type": "markdown",
   "metadata": {},
   "source": [
    "***what will happen if I change the phone number and try again?***\n",
    "\n",
    "---\n",
    "\n",
    "### 3rd stage: using Twilio API library"
   ]
  },
  {
   "cell_type": "code",
   "execution_count": 5,
   "metadata": {},
   "outputs": [
    {
     "name": "stdout",
     "output_type": "stream",
     "text": [
      "message: \"whatssssappp, take a number: 7293\"\n"
     ]
    }
   ],
   "source": [
    "from random import randrange\n",
    "\n",
    "# lets compose another message\n",
    "message = f'whatssssappp, take a number: {randrange(10000)}'\n",
    "print(f'message: \"{message}\"')"
   ]
  },
  {
   "cell_type": "code",
   "execution_count": 6,
   "metadata": {},
   "outputs": [
    {
     "ename": "ModuleNotFoundError",
     "evalue": "No module named 'twilio'",
     "output_type": "error",
     "traceback": [
      "\u001b[1;31m---------------------------------------------------------------------------\u001b[0m",
      "\u001b[1;31mModuleNotFoundError\u001b[0m                       Traceback (most recent call last)",
      "\u001b[1;32m<ipython-input-6-7a6bdd1627df>\u001b[0m in \u001b[0;36m<module>\u001b[1;34m\u001b[0m\n\u001b[1;32m----> 1\u001b[1;33m \u001b[1;32mfrom\u001b[0m \u001b[0mtwilio\u001b[0m\u001b[1;33m.\u001b[0m\u001b[0mrest\u001b[0m \u001b[1;32mimport\u001b[0m \u001b[0mClient\u001b[0m\u001b[1;33m\u001b[0m\u001b[1;33m\u001b[0m\u001b[0m\n\u001b[0m\u001b[0;32m      2\u001b[0m \u001b[1;33m\u001b[0m\u001b[0m\n\u001b[0;32m      3\u001b[0m \u001b[0maccount_sid\u001b[0m \u001b[1;33m=\u001b[0m \u001b[1;34m'AC0fe0df9504d793ccf662810def4cff6c'\u001b[0m\u001b[1;33m\u001b[0m\u001b[1;33m\u001b[0m\u001b[0m\n\u001b[0;32m      4\u001b[0m \u001b[0mauth_token\u001b[0m \u001b[1;33m=\u001b[0m \u001b[1;34m'e0e7876f3f1a45b9ea844167bbc94c52'\u001b[0m\u001b[1;33m\u001b[0m\u001b[1;33m\u001b[0m\u001b[0m\n\u001b[0;32m      5\u001b[0m \u001b[0mphone_number\u001b[0m \u001b[1;33m=\u001b[0m \u001b[1;34m'+15176180357'\u001b[0m\u001b[1;33m\u001b[0m\u001b[1;33m\u001b[0m\u001b[0m\n",
      "\u001b[1;31mModuleNotFoundError\u001b[0m: No module named 'twilio'"
     ]
    }
   ],
   "source": [
    "from twilio.rest import Client\n",
    "\n",
    "account_sid = 'AC0fe0df9504d793ccf662810def4cff6c'\n",
    "auth_token = 'e0e7876f3f1a45b9ea844167bbc94c52'\n",
    "phone_number = '+15176180357'\n",
    "\n",
    "client = Client(account_sid, auth_token)\n",
    "\n",
    "message = client.messages.create(\n",
    "    body=message,\n",
    "    from_=phone_number,\n",
    "    to='+972546734595'\n",
    ")\n",
    "\n",
    "print(f'message id: {message.sid}')"
   ]
  }
 ],
 "metadata": {
  "kernelspec": {
   "display_name": "Python 3",
   "language": "python",
   "name": "python3"
  },
  "language_info": {
   "codemirror_mode": {
    "name": "ipython",
    "version": 3
   },
   "file_extension": ".py",
   "mimetype": "text/x-python",
   "name": "python",
   "nbconvert_exporter": "python",
   "pygments_lexer": "ipython3",
   "version": "3.8.3"
  }
 },
 "nbformat": 4,
 "nbformat_minor": 4
}
